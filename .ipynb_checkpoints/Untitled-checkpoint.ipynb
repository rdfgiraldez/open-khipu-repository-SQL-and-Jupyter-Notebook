{
 "cells": [
  {
   "cell_type": "code",
   "execution_count": 2,
   "id": "7b2d7f38",
   "metadata": {},
   "outputs": [
    {
     "data": {
      "text/html": [
       "<div>\n",
       "<style scoped>\n",
       "    .dataframe tbody tr th:only-of-type {\n",
       "        vertical-align: middle;\n",
       "    }\n",
       "\n",
       "    .dataframe tbody tr th {\n",
       "        vertical-align: top;\n",
       "    }\n",
       "\n",
       "    .dataframe thead th {\n",
       "        text-align: right;\n",
       "    }\n",
       "</style>\n",
       "<table border=\"1\" class=\"dataframe\">\n",
       "  <thead>\n",
       "    <tr style=\"text-align: right;\">\n",
       "      <th></th>\n",
       "      <th>KHIPU_ID</th>\n",
       "      <th>INVESTIGATOR_NUM</th>\n",
       "      <th>orig_inv_num</th>\n",
       "      <th>MUSEUM_NAME</th>\n",
       "      <th>MUSEUM_NUM</th>\n",
       "    </tr>\n",
       "  </thead>\n",
       "  <tbody>\n",
       "    <tr>\n",
       "      <th>0</th>\n",
       "      <td>1000000</td>\n",
       "      <td>UR019</td>\n",
       "      <td>UR019</td>\n",
       "      <td>\"Centro Mallqui, Leymebamba, Amazonas\"</td>\n",
       "      <td>CMA-480/LC1-109.3</td>\n",
       "    </tr>\n",
       "    <tr>\n",
       "      <th>1</th>\n",
       "      <td>1000001</td>\n",
       "      <td>UR008</td>\n",
       "      <td>UR008</td>\n",
       "      <td>\"Centro Mallqui, Leymebamba, Amazonas\"</td>\n",
       "      <td>CMA-480/LC1-109.5</td>\n",
       "    </tr>\n",
       "    <tr>\n",
       "      <th>2</th>\n",
       "      <td>1000002</td>\n",
       "      <td>UR020</td>\n",
       "      <td>UR020</td>\n",
       "      <td>\"Centro Mallqui, Leymebamba, Amazonas\"</td>\n",
       "      <td>CMA-480/LC1-109.6</td>\n",
       "    </tr>\n",
       "    <tr>\n",
       "      <th>3</th>\n",
       "      <td>1000003</td>\n",
       "      <td>UR018</td>\n",
       "      <td>UR018</td>\n",
       "      <td>\"Centro Mallqui, Leymebamba, Amazonas\"</td>\n",
       "      <td>CMA-480/LC1-109B</td>\n",
       "    </tr>\n",
       "    <tr>\n",
       "      <th>4</th>\n",
       "      <td>1000004</td>\n",
       "      <td>UR010</td>\n",
       "      <td>UR010</td>\n",
       "      <td>\"Centro Mallqui, Leymebamba, Amazonas\"</td>\n",
       "      <td>CMA-480/LC1-109.1</td>\n",
       "    </tr>\n",
       "  </tbody>\n",
       "</table>\n",
       "</div>"
      ],
      "text/plain": [
       "   KHIPU_ID INVESTIGATOR_NUM orig_inv_num  \\\n",
       "0   1000000            UR019        UR019   \n",
       "1   1000001            UR008        UR008   \n",
       "2   1000002            UR020        UR020   \n",
       "3   1000003            UR018        UR018   \n",
       "4   1000004            UR010        UR010   \n",
       "\n",
       "                              MUSEUM_NAME         MUSEUM_NUM  \n",
       "0  \"Centro Mallqui, Leymebamba, Amazonas\"  CMA-480/LC1-109.3  \n",
       "1  \"Centro Mallqui, Leymebamba, Amazonas\"  CMA-480/LC1-109.5  \n",
       "2  \"Centro Mallqui, Leymebamba, Amazonas\"  CMA-480/LC1-109.6  \n",
       "3  \"Centro Mallqui, Leymebamba, Amazonas\"   CMA-480/LC1-109B  \n",
       "4  \"Centro Mallqui, Leymebamba, Amazonas\"  CMA-480/LC1-109.1  "
      ]
     },
     "execution_count": 2,
     "metadata": {},
     "output_type": "execute_result"
    }
   ],
   "source": [
    "import sqlite3 as s3\n",
    "import matplotlib.pyplot as plt\n",
    "import seaborn as sns\n",
    "import numpy as np\n",
    "import pandas as pd\n",
    "\n",
    "con = s3.connect(\"khipu.db\")\n",
    "cur = con.cursor()\n",
    "#for row in cur.execute('select * from khipu_main'):\n",
    "    #print(row)\n",
    "\n",
    "khipuNamesDF = pd.read_sql_query(\"select KHIPU_ID,INVESTIGATOR_NUM,orig_inv_num, MUSEUM_NAME, MUSEUM_NUM from khipu_main\",con)\n",
    "khipuNamesDF.head()"
   ]
  },
  {
   "cell_type": "code",
   "execution_count": 69,
   "id": "f532de0e",
   "metadata": {},
   "outputs": [],
   "source": [
    "qID = 1000000\n",
    "import sqlalchemy as s\n",
    "import pandas as pd\n",
    "engine = s.create_engine('sqlite:///khipu.db')"
   ]
  },
  {
   "cell_type": "markdown",
   "id": "6fb6b078",
   "metadata": {},
   "source": [
    "## Input cord ordinals and get knots in Ascher format"
   ]
  },
  {
   "cell_type": "code",
   "execution_count": 55,
   "id": "cd0b4af0",
   "metadata": {},
   "outputs": [],
   "source": [
    "as68 = [28,29,39,70,77,102,106,109,116,124,127,135,140,191,211]\n",
    "ur281=[28,29,39,40,71,78,103,107,110,117,125,127,135,140,191,211]"
   ]
  },
  {
   "cell_type": "code",
   "execution_count": 78,
   "id": "50a08a75",
   "metadata": {},
   "outputs": [
    {
     "name": "stdout",
     "output_type": "stream",
     "text": [
      "28: 2S(13.0)\n",
      "29: 1S(12.5), 7S(23.0), 4L(34.5)\n",
      "39: 6S(23.0), 9L(32.0)\n",
      "40: 1S(23.5), 1E(32.5)\n",
      "71: 3S(14.0), 7L(23.0)\n",
      "78: 3S(9.0), 9L(18.0)\n",
      "103: 3L(18.5)\n",
      "107: 1S(8.5), 5L(17.5)\n",
      "110: 9L(18.5)\n",
      "117: 1S(5.5), 9S(12.5), 5L(31.5)\n",
      "125: 2S(14.5), 4S(24.0), 3L(33.0)\n",
      "127: 2S(12.5), 9S(22.0), 5L(29.5)\n",
      "135: 1S(4.5), 7S(22.5), 8L(32.0)\n",
      "140: 8S(23.5), 7L(33.5)\n",
      "191: 6S(7.5), 4L(20.5)\n",
      "211: 6S(9.0), 8L(19.5)\n"
     ]
    }
   ],
   "source": [
    "#Select list and input khipu name. Goes by ordinal number for the list.\n",
    "l1 = ur281\n",
    "quipu = 'UR281'\n",
    "\n",
    "def lookupL(l,qName):\n",
    "        df = pd.read_sql_query('SELECT c.khipu_id, k.cord_id, c.cord_ordinal,kc.cluster_id, k.type_code, \\\n",
    "        kc.start_pos, k.num_turns,k.knot_value_type,c.cord_length, c.termination \\\n",
    "        FROM cord AS c \\\n",
    "        LEFT JOIN knot AS k \\\n",
    "        ON c.cord_id = k.cord_id \\\n",
    "        LEFT JOIN knot_cluster AS kc \\\n",
    "        ON k.cluster_id = kc.cluster_id \\\n",
    "        WHERE  c.cord_id = \\\n",
    "        (SELECT cord_id \\\n",
    "        FROM cord \\\n",
    "        WHERE cord_ordinal = '+ str(l)+' \\\n",
    "        AND khipu_id = ( \\\n",
    "            SELECT khipu_id \\\n",
    "            FROM khipu_main \\\n",
    "            WHERE investigator_num = \"'+qName+'\"))',engine)\n",
    "    return df\n",
    "\n",
    "def addKnot(numKnots,i):\n",
    "    startPos = str(df['START_POS'][i])\n",
    "    if '.' not in startPos:\n",
    "        startPos = startPos+'.0'\n",
    "    str2 = str(numKnots)+df['TYPE_CODE'][i]+'('+startPos+')'\n",
    "    return str2\n",
    "for l in l1:\n",
    "    df = lookupL(l,quipu)\n",
    "    #print(str(l))\n",
    "    #print(df.head())\n",
    "    str1 = '{}: '.format(df['CORD_ORDINAL'][0])\n",
    "    i=0\n",
    "    lastNum = 0\n",
    "    numKnots=1\n",
    "    while i< df.index.size:\n",
    "        if df['CLUSTER_ID'][i] == lastNum:\n",
    "            numKnots=numKnots+1\n",
    "     #       print(\"if df['CLUSTER_ID'][i] == lastNum:\")\n",
    "        else:\n",
    "      #      print('else')\n",
    "            if lastNum !=0:\n",
    "       #         print('if lastNum !=0:')\n",
    "                if i !=0:\n",
    "        #            print('if i !=0:')\n",
    "                    num=numKnots\n",
    "                    if df['TYPE_CODE'][i-1]=='L':\n",
    "                        num=df['knot_value_type'][i-1]\n",
    "                    str1 = str1 + addKnot(num,i-1)\n",
    "                numKnots=1\n",
    "                if i <df.index.size:\n",
    "         #           print('if i <df.index.size:')\n",
    "                    str1= str1+', '\n",
    "                \n",
    "            lastNum = df['CLUSTER_ID'][i]\n",
    "            \n",
    "          #  print('lastNum: '+str(lastNum))\n",
    "        if i+1 == df.index.size:\n",
    "           # print('if i+1 == df.index.size:')\n",
    "            num=numKnots\n",
    "            if df['TYPE_CODE'][i]=='L':\n",
    "                num=df['knot_value_type'][i]\n",
    "            str1=str1 + addKnot(num,i)        \n",
    "        i=i+1\n",
    "        \n",
    "    print(str1)"
   ]
  },
  {
   "cell_type": "code",
   "execution_count": 38,
   "id": "784d8b7f",
   "metadata": {},
   "outputs": [
    {
     "ename": "SyntaxError",
     "evalue": "unexpected EOF while parsing (<ipython-input-38-861bf4de7ede>, line 18)",
     "output_type": "error",
     "traceback": [
      "\u001b[1;36m  File \u001b[1;32m\"<ipython-input-38-861bf4de7ede>\"\u001b[1;36m, line \u001b[1;32m18\u001b[0m\n\u001b[1;33m    #print(str1)\u001b[0m\n\u001b[1;37m                ^\u001b[0m\n\u001b[1;31mSyntaxError\u001b[0m\u001b[1;31m:\u001b[0m unexpected EOF while parsing\n"
     ]
    }
   ],
   "source": []
  }
 ],
 "metadata": {
  "kernelspec": {
   "display_name": "Python 3",
   "language": "python",
   "name": "python3"
  },
  "language_info": {
   "codemirror_mode": {
    "name": "ipython",
    "version": 3
   },
   "file_extension": ".py",
   "mimetype": "text/x-python",
   "name": "python",
   "nbconvert_exporter": "python",
   "pygments_lexer": "ipython3",
   "version": "3.8.8"
  }
 },
 "nbformat": 4,
 "nbformat_minor": 5
}
